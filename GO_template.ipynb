{
 "cells": [
  {
   "cell_type": "code",
   "execution_count": null,
   "metadata": {},
   "outputs": [],
   "source": [
    "library(AnnotationHub)\n",
    "library(clusterProfiler)"
   ]
  },
  {
   "cell_type": "code",
   "execution_count": null,
   "metadata": {},
   "outputs": [],
   "source": [
    "hub<-AnnotationHub()\n",
    "mm <- hub[[\"AH75743\"]]\n",
    "AGE <- read.csv(\"parentDir/REGION_AGE_All.csv\")\n",
    "sample_all<- AGE$significant\n",
    "res=bitr(sample_all,fromType=\"ENSEMBL\",toType=\"ENTREZID\",OrgDb=mm)\n",
    "sample_all=res[,2]\n",
    "xx1=enrichGO(sample_all,OrgDb=mm,keyType=\"ENTREZID\",readable=T)\n",
    "write.csv(xx1, \"REGION/allAGE_REGION_GO.csv\")\n",
    "\n",
    "sample_up<- AGE$upregulated\n",
    "resUp=bitr(sample_up,fromType=\"ENSEMBL\",toType=\"ENTREZID\",OrgDb=mm)\n",
    "sample_up=resUp[,2]\n",
    "xx2=enrichGO(sample_up,OrgDb=mm,keyType=\"ENTREZID\",readable=T)\n",
    "write.csv(xx2, \"REGION/upAGE_REGION_GO.csv\")\n",
    "\n",
    "sample_down<- AGE$downregulated\n",
    "resDown=bitr(sample_down,fromType=\"ENSEMBL\",toType=\"ENTREZID\",OrgDb=mm)\n",
    "sample_down=resDown[,2]\n",
    "xx3=enrichGO(sample_down,OrgDb=mm,keyType=\"ENTREZID\",readable=T)\n",
    "write.csv(xx3, \"REGION/downAGE_REGION_GO.csv\")"
   ]
  }
 ],
 "metadata": {
  "kernelspec": {
   "display_name": "R",
   "language": "R",
   "name": "ir"
  },
  "language_info": {
   "codemirror_mode": "r",
   "file_extension": ".r",
   "mimetype": "text/x-r-source",
   "name": "R",
   "pygments_lexer": "r",
   "version": "3.6.1"
  }
 },
 "nbformat": 4,
 "nbformat_minor": 4
}
